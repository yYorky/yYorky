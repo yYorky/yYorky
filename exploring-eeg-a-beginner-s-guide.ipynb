{
 "cells": [
  {
   "cell_type": "markdown",
   "id": "400d1eff",
   "metadata": {
    "papermill": {
     "duration": 0.010256,
     "end_time": "2024-01-14T16:38:32.549707",
     "exception": false,
     "start_time": "2024-01-14T16:38:32.539451",
     "status": "completed"
    },
    "tags": []
   },
   "source": [
    "# <div style=\"padding: 30px;color:white;margin:10;font-size:60%;text-align:left;display:fill;border-radius:10px;background-color:#FFFFFF;overflow:hidden;background-color:#FFCE30\"><b><span style='color:#FFFFFF'>1 |</span></b> <b>INTRODUCTION</b></div>\n",
    "\n",
    "👋 Welcome to \"🧠Exploring EEG: A Beginner's Guide\"! \n",
    "\n",
    "If you're fascinated by the wonders of the human brain and the intricate patterns of brainwaves, but find the world of Electroencephalography (EEG) analysis daunting, you're in the right place. \n",
    "\n",
    "This notebook is designed for beginners like me & you, aiming to demystify the complexities of EEG data and make your learning journey both enjoyable and informative.\n",
    "\n",
    "### <b><span style='color:#FFCE30'> 1.1 |</span> Intention of the notebook</b>\n",
    "In this notebook, we will embark on an exploratory journey into the realm of EEG data analysis. Our goal is to provide a clear, step-by-step guide to understanding and analyzing EEG signals, which are crucial in detecting and classifying brain activities, such as seizures. We aim to:\n",
    "\n",
    "* Break down complex concepts into easily digestible sections.\n",
    "* Illustrate each step with practical code examples.\n",
    "* Reference public notebooks and discussions to enhance your learning experience.\n",
    "\n",
    "\n",
    "### <b><span style='color:#FFCE30'> 1.2 |</span> Learning Objective</b>\n",
    "By the end of this notebook, you will have a foundational understanding of:\n",
    "\n",
    "* The basics of EEG signals and their significance in medical research and neurology.\n",
    "* How to preprocess and analyze EEG data.\n",
    "* Run through the basic code to build a machine learning model for EEG data classification."
   ]
  },
  {
   "cell_type": "markdown",
   "id": "8a0064b3",
   "metadata": {
    "papermill": {
     "duration": 0.008701,
     "end_time": "2024-01-14T16:38:32.567725",
     "exception": false,
     "start_time": "2024-01-14T16:38:32.559024",
     "status": "completed"
    },
    "tags": []
   },
   "source": [
    "# <div style=\"padding: 30px;color:white;margin:10;font-size:60%;text-align:left;display:fill;border-radius:10px;background-color:#FFFFFF;overflow:hidden;background-color:#FFCE30\"><b><span style='color:#FFFFFF'>2 |</span></b> <b>REFERENCE & ACKNOWLEDGEMENT</b></div>\n",
    "\n",
    "This notebook wouldn't be possible without the valuable insights and contributions from the Kaggle community. I've leveraged several resources to compile the most effective learning path for us:\n",
    "\n",
    "* https://www.kaggle.com/code/cdeotte/catboost-starter-lb-0-8\n",
    "* https://www.kaggle.com/code/mvvppp/hms-eda-and-domain-journey\n",
    "* https://www.kaggle.com/code/ksooklall/hms-banana-montage\n",
    "* https://www.kaggle.com/code/mpwolke/seizures-classification-parquet\n",
    "\n",
    "\n",
    "Feel free to explore these resources alongside this notebook to deepen your understanding."
   ]
  },
  {
   "cell_type": "markdown",
   "id": "4e4058cc",
   "metadata": {
    "execution": {
     "iopub.execute_input": "2024-01-14T15:14:51.033378Z",
     "iopub.status.busy": "2024-01-14T15:14:51.032997Z",
     "iopub.status.idle": "2024-01-14T15:14:51.038874Z",
     "shell.execute_reply": "2024-01-14T15:14:51.037454Z",
     "shell.execute_reply.started": "2024-01-14T15:14:51.033348Z"
    },
    "papermill": {
     "duration": 0.008677,
     "end_time": "2024-01-14T16:38:32.585442",
     "exception": false,
     "start_time": "2024-01-14T16:38:32.576765",
     "status": "completed"
    },
    "tags": []
   },
   "source": [
    "# <div style=\"padding: 30px;color:white;margin:10;font-size:60%;text-align:left;display:fill;border-radius:10px;background-color:#FFFFFF;overflow:hidden;background-color:#FFCE30\"><b><span style='color:#FFFFFF'>3 |</span></b> <b>DOMAIN UNDERSTANDING</b></div>"
   ]
  },
  {
   "cell_type": "markdown",
   "id": "e09e0680",
   "metadata": {
    "papermill": {
     "duration": 0.008922,
     "end_time": "2024-01-14T16:38:32.604537",
     "exception": false,
     "start_time": "2024-01-14T16:38:32.595615",
     "status": "completed"
    },
    "tags": []
   },
   "source": [
    "<b><span style='color:#FFCE30'> 3.1 |</span> Background of EEG</b>"
   ]
  },
  {
   "cell_type": "markdown",
   "id": "7402abdf",
   "metadata": {
    "execution": {
     "iopub.execute_input": "2024-01-14T15:15:33.179615Z",
     "iopub.status.busy": "2024-01-14T15:15:33.179182Z",
     "iopub.status.idle": "2024-01-14T15:15:33.185561Z",
     "shell.execute_reply": "2024-01-14T15:15:33.184241Z",
     "shell.execute_reply.started": "2024-01-14T15:15:33.179583Z"
    },
    "papermill": {
     "duration": 0.008683,
     "end_time": "2024-01-14T16:38:32.622266",
     "exception": false,
     "start_time": "2024-01-14T16:38:32.613583",
     "status": "completed"
    },
    "tags": []
   },
   "source": [
    "# <div style=\"padding: 30px;color:white;margin:10;font-size:60%;text-align:left;display:fill;border-radius:10px;background-color:#FFFFFF;overflow:hidden;background-color:#FFCE30\"><b><span style='color:#FFFFFF'>4 |</span></b> <b>LOAD LIBARIES</b></div>"
   ]
  },
  {
   "cell_type": "code",
   "execution_count": 1,
   "id": "1b5d3bcc",
   "metadata": {
    "execution": {
     "iopub.execute_input": "2024-01-14T16:38:32.642589Z",
     "iopub.status.busy": "2024-01-14T16:38:32.641831Z",
     "iopub.status.idle": "2024-01-14T16:38:33.072037Z",
     "shell.execute_reply": "2024-01-14T16:38:33.070643Z"
    },
    "papermill": {
     "duration": 0.443934,
     "end_time": "2024-01-14T16:38:33.075203",
     "exception": false,
     "start_time": "2024-01-14T16:38:32.631269",
     "status": "completed"
    },
    "tags": []
   },
   "outputs": [],
   "source": [
    "import os\n",
    "import pandas as pd, numpy as np\n",
    "import matplotlib.pyplot as plt\n",
    "VER = 1"
   ]
  },
  {
   "cell_type": "markdown",
   "id": "7c1969fe",
   "metadata": {
    "execution": {
     "iopub.execute_input": "2024-01-14T15:16:07.035699Z",
     "iopub.status.busy": "2024-01-14T15:16:07.035029Z",
     "iopub.status.idle": "2024-01-14T15:16:07.040799Z",
     "shell.execute_reply": "2024-01-14T15:16:07.039623Z",
     "shell.execute_reply.started": "2024-01-14T15:16:07.035656Z"
    },
    "papermill": {
     "duration": 0.0092,
     "end_time": "2024-01-14T16:38:33.094081",
     "exception": false,
     "start_time": "2024-01-14T16:38:33.084881",
     "status": "completed"
    },
    "tags": []
   },
   "source": [
    "# <div style=\"padding: 30px;color:white;margin:10;font-size:60%;text-align:left;display:fill;border-radius:10px;background-color:#FFFFFF;overflow:hidden;background-color:#FFCE30\"><b><span style='color:#FFFFFF'>5 |</span></b> <b>LOAD TRAIN DATA</b></div>"
   ]
  },
  {
   "cell_type": "code",
   "execution_count": 2,
   "id": "2a54a5cb",
   "metadata": {
    "execution": {
     "iopub.execute_input": "2024-01-14T16:38:33.116477Z",
     "iopub.status.busy": "2024-01-14T16:38:33.114719Z",
     "iopub.status.idle": "2024-01-14T16:38:33.469850Z",
     "shell.execute_reply": "2024-01-14T16:38:33.468660Z"
    },
    "papermill": {
     "duration": 0.36996,
     "end_time": "2024-01-14T16:38:33.473417",
     "exception": false,
     "start_time": "2024-01-14T16:38:33.103457",
     "status": "completed"
    },
    "tags": []
   },
   "outputs": [
    {
     "name": "stdout",
     "output_type": "stream",
     "text": [
      "Train shape: (106800, 15)\n",
      "Targets ['seizure_vote', 'lpd_vote', 'gpd_vote', 'lrda_vote', 'grda_vote', 'other_vote']\n"
     ]
    },
    {
     "data": {
      "text/html": [
       "<div>\n",
       "<style scoped>\n",
       "    .dataframe tbody tr th:only-of-type {\n",
       "        vertical-align: middle;\n",
       "    }\n",
       "\n",
       "    .dataframe tbody tr th {\n",
       "        vertical-align: top;\n",
       "    }\n",
       "\n",
       "    .dataframe thead th {\n",
       "        text-align: right;\n",
       "    }\n",
       "</style>\n",
       "<table border=\"1\" class=\"dataframe\">\n",
       "  <thead>\n",
       "    <tr style=\"text-align: right;\">\n",
       "      <th></th>\n",
       "      <th>eeg_id</th>\n",
       "      <th>eeg_sub_id</th>\n",
       "      <th>eeg_label_offset_seconds</th>\n",
       "      <th>spectrogram_id</th>\n",
       "      <th>spectrogram_sub_id</th>\n",
       "      <th>spectrogram_label_offset_seconds</th>\n",
       "      <th>label_id</th>\n",
       "      <th>patient_id</th>\n",
       "      <th>expert_consensus</th>\n",
       "      <th>seizure_vote</th>\n",
       "      <th>lpd_vote</th>\n",
       "      <th>gpd_vote</th>\n",
       "      <th>lrda_vote</th>\n",
       "      <th>grda_vote</th>\n",
       "      <th>other_vote</th>\n",
       "    </tr>\n",
       "  </thead>\n",
       "  <tbody>\n",
       "    <tr>\n",
       "      <th>0</th>\n",
       "      <td>1628180742</td>\n",
       "      <td>0</td>\n",
       "      <td>0.0</td>\n",
       "      <td>353733</td>\n",
       "      <td>0</td>\n",
       "      <td>0.0</td>\n",
       "      <td>127492639</td>\n",
       "      <td>42516</td>\n",
       "      <td>Seizure</td>\n",
       "      <td>3</td>\n",
       "      <td>0</td>\n",
       "      <td>0</td>\n",
       "      <td>0</td>\n",
       "      <td>0</td>\n",
       "      <td>0</td>\n",
       "    </tr>\n",
       "    <tr>\n",
       "      <th>1</th>\n",
       "      <td>1628180742</td>\n",
       "      <td>1</td>\n",
       "      <td>6.0</td>\n",
       "      <td>353733</td>\n",
       "      <td>1</td>\n",
       "      <td>6.0</td>\n",
       "      <td>3887563113</td>\n",
       "      <td>42516</td>\n",
       "      <td>Seizure</td>\n",
       "      <td>3</td>\n",
       "      <td>0</td>\n",
       "      <td>0</td>\n",
       "      <td>0</td>\n",
       "      <td>0</td>\n",
       "      <td>0</td>\n",
       "    </tr>\n",
       "    <tr>\n",
       "      <th>2</th>\n",
       "      <td>1628180742</td>\n",
       "      <td>2</td>\n",
       "      <td>8.0</td>\n",
       "      <td>353733</td>\n",
       "      <td>2</td>\n",
       "      <td>8.0</td>\n",
       "      <td>1142670488</td>\n",
       "      <td>42516</td>\n",
       "      <td>Seizure</td>\n",
       "      <td>3</td>\n",
       "      <td>0</td>\n",
       "      <td>0</td>\n",
       "      <td>0</td>\n",
       "      <td>0</td>\n",
       "      <td>0</td>\n",
       "    </tr>\n",
       "    <tr>\n",
       "      <th>3</th>\n",
       "      <td>1628180742</td>\n",
       "      <td>3</td>\n",
       "      <td>18.0</td>\n",
       "      <td>353733</td>\n",
       "      <td>3</td>\n",
       "      <td>18.0</td>\n",
       "      <td>2718991173</td>\n",
       "      <td>42516</td>\n",
       "      <td>Seizure</td>\n",
       "      <td>3</td>\n",
       "      <td>0</td>\n",
       "      <td>0</td>\n",
       "      <td>0</td>\n",
       "      <td>0</td>\n",
       "      <td>0</td>\n",
       "    </tr>\n",
       "    <tr>\n",
       "      <th>4</th>\n",
       "      <td>1628180742</td>\n",
       "      <td>4</td>\n",
       "      <td>24.0</td>\n",
       "      <td>353733</td>\n",
       "      <td>4</td>\n",
       "      <td>24.0</td>\n",
       "      <td>3080632009</td>\n",
       "      <td>42516</td>\n",
       "      <td>Seizure</td>\n",
       "      <td>3</td>\n",
       "      <td>0</td>\n",
       "      <td>0</td>\n",
       "      <td>0</td>\n",
       "      <td>0</td>\n",
       "      <td>0</td>\n",
       "    </tr>\n",
       "  </tbody>\n",
       "</table>\n",
       "</div>"
      ],
      "text/plain": [
       "       eeg_id  eeg_sub_id  eeg_label_offset_seconds  spectrogram_id  \\\n",
       "0  1628180742           0                       0.0          353733   \n",
       "1  1628180742           1                       6.0          353733   \n",
       "2  1628180742           2                       8.0          353733   \n",
       "3  1628180742           3                      18.0          353733   \n",
       "4  1628180742           4                      24.0          353733   \n",
       "\n",
       "   spectrogram_sub_id  spectrogram_label_offset_seconds    label_id  \\\n",
       "0                   0                               0.0   127492639   \n",
       "1                   1                               6.0  3887563113   \n",
       "2                   2                               8.0  1142670488   \n",
       "3                   3                              18.0  2718991173   \n",
       "4                   4                              24.0  3080632009   \n",
       "\n",
       "   patient_id expert_consensus  seizure_vote  lpd_vote  gpd_vote  lrda_vote  \\\n",
       "0       42516          Seizure             3         0         0          0   \n",
       "1       42516          Seizure             3         0         0          0   \n",
       "2       42516          Seizure             3         0         0          0   \n",
       "3       42516          Seizure             3         0         0          0   \n",
       "4       42516          Seizure             3         0         0          0   \n",
       "\n",
       "   grda_vote  other_vote  \n",
       "0          0           0  \n",
       "1          0           0  \n",
       "2          0           0  \n",
       "3          0           0  \n",
       "4          0           0  "
      ]
     },
     "execution_count": 2,
     "metadata": {},
     "output_type": "execute_result"
    }
   ],
   "source": [
    "df = pd.read_csv('/kaggle/input/hms-harmful-brain-activity-classification/train.csv')\n",
    "TARGETS = df.columns[-6:]\n",
    "print('Train shape:', df.shape )\n",
    "print('Targets', list(TARGETS))\n",
    "df.head()"
   ]
  },
  {
   "cell_type": "markdown",
   "id": "b7aebc80",
   "metadata": {
    "execution": {
     "iopub.execute_input": "2024-01-14T15:17:26.898867Z",
     "iopub.status.busy": "2024-01-14T15:17:26.898038Z",
     "iopub.status.idle": "2024-01-14T15:17:26.903917Z",
     "shell.execute_reply": "2024-01-14T15:17:26.902565Z",
     "shell.execute_reply.started": "2024-01-14T15:17:26.898818Z"
    },
    "papermill": {
     "duration": 0.010064,
     "end_time": "2024-01-14T16:38:33.494791",
     "exception": false,
     "start_time": "2024-01-14T16:38:33.484727",
     "status": "completed"
    },
    "tags": []
   },
   "source": [
    "# <div style=\"padding: 30px;color:white;margin:10;font-size:60%;text-align:left;display:fill;border-radius:10px;background-color:#FFFFFF;overflow:hidden;background-color:#FFCE30\"><b><span style='color:#FFFFFF'>6 |</span></b> <b>CREATE NON-OVERLAPPING EEG ID TRAIN DATA</b></div>\n",
    "\n",
    "Following the notebook from Chris Deotte: https://www.kaggle.com/code/cdeotte/catboost-starter-lb-0-8,\n",
    "Initial discussion found here https://www.kaggle.com/competitions/hms-harmful-brain-activity-classification/discussion/467021\n",
    "\n",
    "We perform the following because:\n",
    "\n",
    "* **Match Training Data with Test Data Format:** The competition states that the test data does not have multiple segments from the same eeg_id. To make the training data similar to the test data, we also use only one segment per eeg_id in the training data.\n",
    "\n",
    "* **Remove Redundancies:** This approach ensures that the training data does not have overlapping or redundant information, which can lead to a more accurate and generalizable machine learning model.\n",
    "\n",
    "* **Consistency in Data:** By standardizing how we handle the EEG segments in training, we ensure that our model learns from data that is consistent in format with the data it will be tested on.\n",
    "\n",
    "* **Data Preparation for Machine Learning:** The normalization of target variables and inclusion of relevant features like patient_id and expert_consensus prepare the dataset for effective machine learning modeling."
   ]
  },
  {
   "cell_type": "code",
   "execution_count": 3,
   "id": "4861ebf8",
   "metadata": {
    "execution": {
     "iopub.execute_input": "2024-01-14T16:38:33.517001Z",
     "iopub.status.busy": "2024-01-14T16:38:33.516598Z",
     "iopub.status.idle": "2024-01-14T16:38:33.649238Z",
     "shell.execute_reply": "2024-01-14T16:38:33.648103Z"
    },
    "papermill": {
     "duration": 0.14618,
     "end_time": "2024-01-14T16:38:33.651694",
     "exception": false,
     "start_time": "2024-01-14T16:38:33.505514",
     "status": "completed"
    },
    "tags": []
   },
   "outputs": [
    {
     "name": "stdout",
     "output_type": "stream",
     "text": [
      "Train non-overlapp eeg_id shape: (17089, 12)\n"
     ]
    },
    {
     "data": {
      "text/html": [
       "<div>\n",
       "<style scoped>\n",
       "    .dataframe tbody tr th:only-of-type {\n",
       "        vertical-align: middle;\n",
       "    }\n",
       "\n",
       "    .dataframe tbody tr th {\n",
       "        vertical-align: top;\n",
       "    }\n",
       "\n",
       "    .dataframe thead th {\n",
       "        text-align: right;\n",
       "    }\n",
       "</style>\n",
       "<table border=\"1\" class=\"dataframe\">\n",
       "  <thead>\n",
       "    <tr style=\"text-align: right;\">\n",
       "      <th></th>\n",
       "      <th>eeg_id</th>\n",
       "      <th>spec_id</th>\n",
       "      <th>min</th>\n",
       "      <th>max</th>\n",
       "      <th>patient_id</th>\n",
       "      <th>seizure_vote</th>\n",
       "      <th>lpd_vote</th>\n",
       "      <th>gpd_vote</th>\n",
       "      <th>lrda_vote</th>\n",
       "      <th>grda_vote</th>\n",
       "      <th>other_vote</th>\n",
       "      <th>target</th>\n",
       "    </tr>\n",
       "  </thead>\n",
       "  <tbody>\n",
       "    <tr>\n",
       "      <th>0</th>\n",
       "      <td>568657</td>\n",
       "      <td>789577333</td>\n",
       "      <td>0.0</td>\n",
       "      <td>16.0</td>\n",
       "      <td>20654</td>\n",
       "      <td>0.0</td>\n",
       "      <td>0.000000</td>\n",
       "      <td>0.25</td>\n",
       "      <td>0.000000</td>\n",
       "      <td>0.166667</td>\n",
       "      <td>0.583333</td>\n",
       "      <td>Other</td>\n",
       "    </tr>\n",
       "    <tr>\n",
       "      <th>1</th>\n",
       "      <td>582999</td>\n",
       "      <td>1552638400</td>\n",
       "      <td>0.0</td>\n",
       "      <td>38.0</td>\n",
       "      <td>20230</td>\n",
       "      <td>0.0</td>\n",
       "      <td>0.857143</td>\n",
       "      <td>0.00</td>\n",
       "      <td>0.071429</td>\n",
       "      <td>0.000000</td>\n",
       "      <td>0.071429</td>\n",
       "      <td>LPD</td>\n",
       "    </tr>\n",
       "    <tr>\n",
       "      <th>2</th>\n",
       "      <td>642382</td>\n",
       "      <td>14960202</td>\n",
       "      <td>1008.0</td>\n",
       "      <td>1032.0</td>\n",
       "      <td>5955</td>\n",
       "      <td>0.0</td>\n",
       "      <td>0.000000</td>\n",
       "      <td>0.00</td>\n",
       "      <td>0.000000</td>\n",
       "      <td>0.000000</td>\n",
       "      <td>1.000000</td>\n",
       "      <td>Other</td>\n",
       "    </tr>\n",
       "    <tr>\n",
       "      <th>3</th>\n",
       "      <td>751790</td>\n",
       "      <td>618728447</td>\n",
       "      <td>908.0</td>\n",
       "      <td>908.0</td>\n",
       "      <td>38549</td>\n",
       "      <td>0.0</td>\n",
       "      <td>0.000000</td>\n",
       "      <td>1.00</td>\n",
       "      <td>0.000000</td>\n",
       "      <td>0.000000</td>\n",
       "      <td>0.000000</td>\n",
       "      <td>GPD</td>\n",
       "    </tr>\n",
       "    <tr>\n",
       "      <th>4</th>\n",
       "      <td>778705</td>\n",
       "      <td>52296320</td>\n",
       "      <td>0.0</td>\n",
       "      <td>0.0</td>\n",
       "      <td>40955</td>\n",
       "      <td>0.0</td>\n",
       "      <td>0.000000</td>\n",
       "      <td>0.00</td>\n",
       "      <td>0.000000</td>\n",
       "      <td>0.000000</td>\n",
       "      <td>1.000000</td>\n",
       "      <td>Other</td>\n",
       "    </tr>\n",
       "  </tbody>\n",
       "</table>\n",
       "</div>"
      ],
      "text/plain": [
       "   eeg_id     spec_id     min     max  patient_id  seizure_vote  lpd_vote  \\\n",
       "0  568657   789577333     0.0    16.0       20654           0.0  0.000000   \n",
       "1  582999  1552638400     0.0    38.0       20230           0.0  0.857143   \n",
       "2  642382    14960202  1008.0  1032.0        5955           0.0  0.000000   \n",
       "3  751790   618728447   908.0   908.0       38549           0.0  0.000000   \n",
       "4  778705    52296320     0.0     0.0       40955           0.0  0.000000   \n",
       "\n",
       "   gpd_vote  lrda_vote  grda_vote  other_vote target  \n",
       "0      0.25   0.000000   0.166667    0.583333  Other  \n",
       "1      0.00   0.071429   0.000000    0.071429    LPD  \n",
       "2      0.00   0.000000   0.000000    1.000000  Other  \n",
       "3      1.00   0.000000   0.000000    0.000000    GPD  \n",
       "4      0.00   0.000000   0.000000    1.000000  Other  "
      ]
     },
     "execution_count": 3,
     "metadata": {},
     "output_type": "execute_result"
    }
   ],
   "source": [
    "# Creating a Unique EEG Segment per eeg_id:\n",
    "# The code groups (groupby) the EEG data (df) by eeg_id. Each eeg_id represents a different EEG recording.\n",
    "# It then picks the first spectrogram_id and the earliest (min) spectrogram_label_offset_seconds for each eeg_id. This helps in identifying the starting point of each EEG segment.\n",
    "# The resulting DataFrame train has columns spec_id (first spectrogram_id) and min (earliest spectrogram_label_offset_seconds).\n",
    "train = df.groupby('eeg_id')[['spectrogram_id','spectrogram_label_offset_seconds']].agg(\n",
    "    {'spectrogram_id':'first','spectrogram_label_offset_seconds':'min'})\n",
    "train.columns = ['spec_id','min']\n",
    "\n",
    "\n",
    "# Finding the Latest Point in Each EEG Segment:\n",
    "# The code again groups the data by eeg_id and finds the latest (max) spectrogram_label_offset_seconds for each segment.\n",
    "# This max value is added to the train DataFrame, representing the end point of each EEG segment.\n",
    "tmp = df.groupby('eeg_id')[['spectrogram_id','spectrogram_label_offset_seconds']].agg(\n",
    "    {'spectrogram_label_offset_seconds':'max'})\n",
    "train['max'] = tmp\n",
    "\n",
    "\n",
    "tmp = df.groupby('eeg_id')[['patient_id']].agg('first') # The code adds the patient_id for each eeg_id to the train DataFrame. This links each EEG segment to a specific patient.\n",
    "train['patient_id'] = tmp\n",
    "\n",
    "\n",
    "tmp = df.groupby('eeg_id')[TARGETS].agg('sum') # The code sums up the target variable counts (like votes for seizure, LPD, etc.) for each eeg_id.\n",
    "for t in TARGETS:\n",
    "    train[t] = tmp[t].values\n",
    "    \n",
    "y_data = train[TARGETS].values # It then normalizes these counts so that they sum up to 1. This step converts the counts into probabilities, which is a common practice in classification tasks.\n",
    "y_data = y_data / y_data.sum(axis=1,keepdims=True)\n",
    "train[TARGETS] = y_data\n",
    "\n",
    "tmp = df.groupby('eeg_id')[['expert_consensus']].agg('first') # For each eeg_id, the code includes the expert_consensus on the EEG segment's classification.\n",
    "train['target'] = tmp\n",
    "\n",
    "train = train.reset_index() # This makes eeg_id a regular column, making the DataFrame easier to work with.\n",
    "print('Train non-overlapp eeg_id shape:', train.shape )\n",
    "train.head()"
   ]
  },
  {
   "cell_type": "markdown",
   "id": "4df098da",
   "metadata": {
    "papermill": {
     "duration": 0.00933,
     "end_time": "2024-01-14T16:38:33.670744",
     "exception": false,
     "start_time": "2024-01-14T16:38:33.661414",
     "status": "completed"
    },
    "tags": []
   },
   "source": [
    "# <div style=\"padding: 30px;color:white;margin:10;font-size:60%;text-align:left;display:fill;border-radius:10px;background-color:#FFFFFF;overflow:hidden;background-color:#FFCE30\"><b><span style='color:#FFFFFF'>7 |</span></b> <b>FEATURE ENGINEERING</b></div>\n",
    "\n",
    "* The code belows efficiently reads spectrogram data, from a single combined file, based on the set variable. We relied on the dataset by Chris Deotte to save time. https://www.kaggle.com/datasets/cdeotte/brain-spectrograms\n",
    "* It then performs feature engineering by calculating mean and minimum values over two different time windows for each frequency in the spectrogram.\n",
    "It produce produces in 1600 features (400 features × 4 calculations) for each EEG ID.\n",
    "* The new features are intended to help the model better understand and classify the EEG data.\n",
    "* This approach is designed to enhance the model's performance by providing it with more detailed information derived from the spectrogram data."
   ]
  },
  {
   "cell_type": "code",
   "execution_count": 4,
   "id": "f31c3c55",
   "metadata": {
    "execution": {
     "iopub.execute_input": "2024-01-14T16:38:33.693399Z",
     "iopub.status.busy": "2024-01-14T16:38:33.692466Z",
     "iopub.status.idle": "2024-01-14T16:38:33.697406Z",
     "shell.execute_reply": "2024-01-14T16:38:33.696409Z"
    },
    "papermill": {
     "duration": 0.018921,
     "end_time": "2024-01-14T16:38:33.699575",
     "exception": false,
     "start_time": "2024-01-14T16:38:33.680654",
     "status": "completed"
    },
    "tags": []
   },
   "outputs": [],
   "source": [
    "READ_SPEC_FILES = False # If READ_SPEC_FILES is False, the code reads the combined file instead of individual files.\n",
    "FEATURE_ENGINEER = True"
   ]
  },
  {
   "cell_type": "code",
   "execution_count": 5,
   "id": "37d7e74f",
   "metadata": {
    "execution": {
     "iopub.execute_input": "2024-01-14T16:38:33.721736Z",
     "iopub.status.busy": "2024-01-14T16:38:33.720873Z",
     "iopub.status.idle": "2024-01-14T16:39:52.664312Z",
     "shell.execute_reply": "2024-01-14T16:39:52.663223Z"
    },
    "papermill": {
     "duration": 78.968189,
     "end_time": "2024-01-14T16:39:52.677421",
     "exception": false,
     "start_time": "2024-01-14T16:38:33.709232",
     "status": "completed"
    },
    "tags": []
   },
   "outputs": [
    {
     "name": "stdout",
     "output_type": "stream",
     "text": [
      "There are 11138 spectrogram parquets\n",
      "CPU times: user 4.94 s, sys: 12.3 s, total: 17.2 s\n",
      "Wall time: 1min 18s\n"
     ]
    }
   ],
   "source": [
    "%%time\n",
    "# READ ALL SPECTROGRAMS\n",
    "PATH = '/kaggle/input/hms-harmful-brain-activity-classification/train_spectrograms/'\n",
    "files = os.listdir(PATH)\n",
    "print(f'There are {len(files)} spectrogram parquets')\n",
    "\n",
    "if READ_SPEC_FILES:    \n",
    "    spectrograms = {}\n",
    "    for i,f in enumerate(files):\n",
    "        if i%100==0: print(i,', ',end='')\n",
    "        tmp = pd.read_parquet(f'{PATH}{f}')\n",
    "        name = int(f.split('.')[0])\n",
    "        spectrograms[name] = tmp.iloc[:,1:].values\n",
    "else:\n",
    "    spectrograms = np.load('/kaggle/input/brain-spectrograms/specs.npy',allow_pickle=True).item()"
   ]
  },
  {
   "cell_type": "code",
   "execution_count": 6,
   "id": "0a72dad3",
   "metadata": {
    "execution": {
     "iopub.execute_input": "2024-01-14T16:39:52.700411Z",
     "iopub.status.busy": "2024-01-14T16:39:52.699331Z",
     "iopub.status.idle": "2024-01-14T16:40:14.213269Z",
     "shell.execute_reply": "2024-01-14T16:40:14.212288Z"
    },
    "papermill": {
     "duration": 21.529153,
     "end_time": "2024-01-14T16:40:14.216529",
     "exception": false,
     "start_time": "2024-01-14T16:39:52.687376",
     "status": "completed"
    },
    "tags": []
   },
   "outputs": [
    {
     "name": "stdout",
     "output_type": "stream",
     "text": [
      "CPU times: user 4 µs, sys: 8 µs, total: 12 µs\n",
      "Wall time: 17.2 µs\n",
      "We are creating 1600 features for 17089 rows... 0 , 100 , 200 , 300 , 400 , 500 , 600 , 700 , 800 , 900 , 1000 , 1100 , 1200 , 1300 , 1400 , 1500 , 1600 , 1700 , 1800 , 1900 , 2000 , 2100 , 2200 , 2300 , 2400 , 2500 , 2600 , 2700 , 2800 , 2900 , 3000 , 3100 , 3200 , 3300 , 3400 , 3500 , 3600 , 3700 , 3800 , 3900 , 4000 , 4100 , 4200 , 4300 , 4400 , 4500 , 4600 , 4700 , 4800 , 4900 , 5000 , 5100 , 5200 , 5300 , 5400 , 5500 , 5600 , 5700 , 5800 , 5900 , 6000 , 6100 , 6200 , 6300 , 6400 , 6500 , 6600 , 6700 , 6800 , 6900 , 7000 , 7100 , 7200 , 7300 , 7400 , 7500 , 7600 , 7700 , 7800 , 7900 , 8000 , 8100 , 8200 , 8300 , 8400 , 8500 , 8600 , 8700 , 8800 , 8900 , 9000 , 9100 , 9200 , 9300 , 9400 , 9500 , 9600 , 9700 , 9800 , 9900 , 10000 , 10100 , 10200 , 10300 , 10400 , 10500 , 10600 , 10700 , 10800 , 10900 , 11000 , 11100 , 11200 , 11300 , 11400 , 11500 , 11600 , 11700 , 11800 , 11900 , 12000 , 12100 , 12200 , 12300 , 12400 , 12500 , 12600 , 12700 , 12800 , 12900 , 13000 , 13100 , 13200 , 13300 , 13400 , 13500 , 13600 , 13700 , 13800 , 13900 , 14000 , 14100 , 14200 , 14300 , 14400 , 14500 , 14600 , 14700 , 14800 , 14900 , 15000 , 15100 , 15200 , 15300 , 15400 , 15500 , 15600 , 15700 , 15800 , 15900 , 16000 , 16100 , 16200 , 16300 , 16400 , 16500 , 16600 , 16700 , 16800 , 16900 , 17000 , \n",
      "New train shape: (17089, 1612)\n"
     ]
    }
   ],
   "source": [
    "%time\n",
    "# ENGINEER FEATURES\n",
    "import warnings\n",
    "warnings.filterwarnings('ignore')\n",
    "\n",
    "# The code generates features from the spectrogram data for use in a model \n",
    "# The features are derived by calculating the mean and minimum values over time for each of the 400 spectrogram frequencies.\n",
    "# Two types of windows are used for these calculations:\n",
    "# A 10-minute window (_mean_10m, _min_10m).\n",
    "# A 20-second window (_mean_20s, _min_20s).\n",
    "# This process results in 1600 features (400 features × 4 calculations) for each EEG ID.\n",
    "\n",
    "SPEC_COLS = pd.read_parquet(f'{PATH}1000086677.parquet').columns[1:]\n",
    "FEATURES = [f'{c}_mean_10m' for c in SPEC_COLS]\n",
    "FEATURES += [f'{c}_min_10m' for c in SPEC_COLS]\n",
    "FEATURES += [f'{c}_mean_20s' for c in SPEC_COLS]\n",
    "FEATURES += [f'{c}_min_20s' for c in SPEC_COLS]\n",
    "print(f'We are creating {len(FEATURES)} features for {len(train)} rows... ',end='')\n",
    "\n",
    "\n",
    "# A data matrix data is initialized to store the new features for each eeg_id in the train DataFrame.\n",
    "# For each row in train, the code calculates the mean and minimum values within the specified 10-minute and 20-second windows.\n",
    "# These calculated values are then stored in the data matrix.\n",
    "# Finally, the matrix is added to the train DataFrame as new columns.\n",
    "\n",
    "if FEATURE_ENGINEER:\n",
    "    data = np.zeros((len(train),len(FEATURES)))\n",
    "    for k in range(len(train)):\n",
    "        if k%100==0: print(k,', ',end='')\n",
    "        row = train.iloc[k]\n",
    "        r = int( (row['min'] + row['max'])//4 ) \n",
    "        \n",
    "        # 10 MINUTE WINDOW FEATURES (MEANS and MINS)\n",
    "        x = np.nanmean(spectrograms[row.spec_id][r:r+300,:],axis=0)\n",
    "        data[k,:400] = x\n",
    "        x = np.nanmin(spectrograms[row.spec_id][r:r+300,:],axis=0)\n",
    "        data[k,400:800] = x\n",
    "        \n",
    "        # 20 SECOND WINDOW FEATURES (MEANS and MINS)\n",
    "        x = np.nanmean(spectrograms[row.spec_id][r+145:r+155,:],axis=0)\n",
    "        data[k,800:1200] = x\n",
    "        x = np.nanmin(spectrograms[row.spec_id][r+145:r+155,:],axis=0)\n",
    "        data[k,1200:1600] = x\n",
    "\n",
    "    train[FEATURES] = data\n",
    "else:\n",
    "    train = pd.read_parquet('/kaggle/input/brain-spectrograms/train.pqt')\n",
    "print()\n",
    "print('New train shape:',train.shape)"
   ]
  },
  {
   "cell_type": "markdown",
   "id": "efcd24b9",
   "metadata": {
    "execution": {
     "iopub.execute_input": "2024-01-14T15:48:13.200329Z",
     "iopub.status.busy": "2024-01-14T15:48:13.199779Z",
     "iopub.status.idle": "2024-01-14T15:48:13.206828Z",
     "shell.execute_reply": "2024-01-14T15:48:13.205408Z",
     "shell.execute_reply.started": "2024-01-14T15:48:13.200282Z"
    },
    "papermill": {
     "duration": 0.017818,
     "end_time": "2024-01-14T16:40:14.253375",
     "exception": false,
     "start_time": "2024-01-14T16:40:14.235557",
     "status": "completed"
    },
    "tags": []
   },
   "source": [
    "# <div style=\"padding: 30px;color:white;margin:10;font-size:60%;text-align:left;display:fill;border-radius:10px;background-color:#FFFFFF;overflow:hidden;background-color:#FFCE30\"><b><span style='color:#FFFFFF'>8 |</span></b> <b>TRAIN MODEL</b></div>\n",
    "\n",
    "* Original work uses catboost, let's try with XGBoost in this version to see the difference."
   ]
  },
  {
   "cell_type": "code",
   "execution_count": 7,
   "id": "e9509bb5",
   "metadata": {
    "execution": {
     "iopub.execute_input": "2024-01-14T16:40:14.292908Z",
     "iopub.status.busy": "2024-01-14T16:40:14.292465Z",
     "iopub.status.idle": "2024-01-14T16:40:16.058905Z",
     "shell.execute_reply": "2024-01-14T16:40:16.058025Z"
    },
    "papermill": {
     "duration": 1.790217,
     "end_time": "2024-01-14T16:40:16.061854",
     "exception": false,
     "start_time": "2024-01-14T16:40:14.271637",
     "status": "completed"
    },
    "tags": []
   },
   "outputs": [
    {
     "name": "stdout",
     "output_type": "stream",
     "text": [
      "XGBoost version 2.0.3\n"
     ]
    }
   ],
   "source": [
    "import xgboost as xgb\n",
    "import gc\n",
    "from sklearn.model_selection import KFold, GroupKFold\n",
    "\n",
    "print('XGBoost version', xgb.__version__)"
   ]
  },
  {
   "cell_type": "code",
   "execution_count": 8,
   "id": "998fe927",
   "metadata": {
    "execution": {
     "iopub.execute_input": "2024-01-14T16:40:16.102582Z",
     "iopub.status.busy": "2024-01-14T16:40:16.102068Z",
     "iopub.status.idle": "2024-01-14T16:49:13.655859Z",
     "shell.execute_reply": "2024-01-14T16:49:13.654411Z"
    },
    "papermill": {
     "duration": 537.578478,
     "end_time": "2024-01-14T16:49:13.659518",
     "exception": false,
     "start_time": "2024-01-14T16:40:16.081040",
     "status": "completed"
    },
    "tags": []
   },
   "outputs": [
    {
     "name": "stdout",
     "output_type": "stream",
     "text": [
      "#########################\n",
      "### Fold 1\n",
      "### train size 13671, valid size 3418\n",
      "#########################\n",
      "[0]\tvalidation_0-mlogloss:1.58320\n",
      "[1]\tvalidation_0-mlogloss:1.46502\n",
      "[2]\tvalidation_0-mlogloss:1.38201\n",
      "[3]\tvalidation_0-mlogloss:1.32699\n",
      "[4]\tvalidation_0-mlogloss:1.28679\n",
      "[5]\tvalidation_0-mlogloss:1.25532\n",
      "[6]\tvalidation_0-mlogloss:1.23440\n",
      "[7]\tvalidation_0-mlogloss:1.21801\n",
      "[8]\tvalidation_0-mlogloss:1.19913\n",
      "[9]\tvalidation_0-mlogloss:1.18848\n",
      "[10]\tvalidation_0-mlogloss:1.17942\n",
      "[11]\tvalidation_0-mlogloss:1.16932\n",
      "[12]\tvalidation_0-mlogloss:1.16292\n",
      "[13]\tvalidation_0-mlogloss:1.15685\n",
      "[14]\tvalidation_0-mlogloss:1.15368\n",
      "[15]\tvalidation_0-mlogloss:1.15029\n",
      "[16]\tvalidation_0-mlogloss:1.14546\n",
      "[17]\tvalidation_0-mlogloss:1.15009\n",
      "[18]\tvalidation_0-mlogloss:1.14598\n",
      "[19]\tvalidation_0-mlogloss:1.14521\n",
      "[20]\tvalidation_0-mlogloss:1.14319\n",
      "[21]\tvalidation_0-mlogloss:1.14254\n",
      "[22]\tvalidation_0-mlogloss:1.14202\n",
      "[23]\tvalidation_0-mlogloss:1.14350\n",
      "[24]\tvalidation_0-mlogloss:1.14749\n",
      "[25]\tvalidation_0-mlogloss:1.14480\n",
      "[26]\tvalidation_0-mlogloss:1.14464\n",
      "[27]\tvalidation_0-mlogloss:1.14612\n",
      "[28]\tvalidation_0-mlogloss:1.14383\n",
      "[29]\tvalidation_0-mlogloss:1.14386\n",
      "[30]\tvalidation_0-mlogloss:1.14378\n",
      "[31]\tvalidation_0-mlogloss:1.14521\n",
      "#########################\n",
      "### Fold 2\n",
      "### train size 13671, valid size 3418\n",
      "#########################\n",
      "[0]\tvalidation_0-mlogloss:1.58411\n",
      "[1]\tvalidation_0-mlogloss:1.47476\n",
      "[2]\tvalidation_0-mlogloss:1.39247\n",
      "[3]\tvalidation_0-mlogloss:1.33759\n",
      "[4]\tvalidation_0-mlogloss:1.29734\n",
      "[5]\tvalidation_0-mlogloss:1.26707\n",
      "[6]\tvalidation_0-mlogloss:1.24774\n",
      "[7]\tvalidation_0-mlogloss:1.22987\n",
      "[8]\tvalidation_0-mlogloss:1.21648\n",
      "[9]\tvalidation_0-mlogloss:1.20750\n",
      "[10]\tvalidation_0-mlogloss:1.20063\n",
      "[11]\tvalidation_0-mlogloss:1.19558\n",
      "[12]\tvalidation_0-mlogloss:1.19017\n",
      "[13]\tvalidation_0-mlogloss:1.18664\n",
      "[14]\tvalidation_0-mlogloss:1.18404\n",
      "[15]\tvalidation_0-mlogloss:1.17970\n",
      "[16]\tvalidation_0-mlogloss:1.17610\n",
      "[17]\tvalidation_0-mlogloss:1.17711\n",
      "[18]\tvalidation_0-mlogloss:1.17063\n",
      "[19]\tvalidation_0-mlogloss:1.17006\n",
      "[20]\tvalidation_0-mlogloss:1.17074\n",
      "[21]\tvalidation_0-mlogloss:1.17226\n",
      "[22]\tvalidation_0-mlogloss:1.17428\n",
      "[23]\tvalidation_0-mlogloss:1.17141\n",
      "[24]\tvalidation_0-mlogloss:1.17411\n",
      "[25]\tvalidation_0-mlogloss:1.17445\n",
      "[26]\tvalidation_0-mlogloss:1.17449\n",
      "[27]\tvalidation_0-mlogloss:1.17505\n",
      "[28]\tvalidation_0-mlogloss:1.17725\n",
      "[29]\tvalidation_0-mlogloss:1.18109\n",
      "#########################\n",
      "### Fold 3\n",
      "### train size 13671, valid size 3418\n",
      "#########################\n",
      "[0]\tvalidation_0-mlogloss:1.55635\n",
      "[1]\tvalidation_0-mlogloss:1.42857\n",
      "[2]\tvalidation_0-mlogloss:1.34629\n",
      "[3]\tvalidation_0-mlogloss:1.28378\n",
      "[4]\tvalidation_0-mlogloss:1.23723\n",
      "[5]\tvalidation_0-mlogloss:1.20338\n",
      "[6]\tvalidation_0-mlogloss:1.17167\n",
      "[7]\tvalidation_0-mlogloss:1.14702\n",
      "[8]\tvalidation_0-mlogloss:1.12750\n",
      "[9]\tvalidation_0-mlogloss:1.11370\n",
      "[10]\tvalidation_0-mlogloss:1.10344\n",
      "[11]\tvalidation_0-mlogloss:1.09208\n",
      "[12]\tvalidation_0-mlogloss:1.07959\n",
      "[13]\tvalidation_0-mlogloss:1.07367\n",
      "[14]\tvalidation_0-mlogloss:1.06851\n",
      "[15]\tvalidation_0-mlogloss:1.06442\n",
      "[16]\tvalidation_0-mlogloss:1.06156\n",
      "[17]\tvalidation_0-mlogloss:1.05786\n",
      "[18]\tvalidation_0-mlogloss:1.05597\n",
      "[19]\tvalidation_0-mlogloss:1.05377\n",
      "[20]\tvalidation_0-mlogloss:1.04900\n",
      "[21]\tvalidation_0-mlogloss:1.04872\n",
      "[22]\tvalidation_0-mlogloss:1.04591\n",
      "[23]\tvalidation_0-mlogloss:1.04577\n",
      "[24]\tvalidation_0-mlogloss:1.04575\n",
      "[25]\tvalidation_0-mlogloss:1.04588\n",
      "[26]\tvalidation_0-mlogloss:1.04806\n",
      "[27]\tvalidation_0-mlogloss:1.04982\n",
      "[28]\tvalidation_0-mlogloss:1.05075\n",
      "[29]\tvalidation_0-mlogloss:1.05165\n",
      "[30]\tvalidation_0-mlogloss:1.05214\n",
      "[31]\tvalidation_0-mlogloss:1.05156\n",
      "[32]\tvalidation_0-mlogloss:1.05093\n",
      "[33]\tvalidation_0-mlogloss:1.05060\n",
      "#########################\n",
      "### Fold 4\n",
      "### train size 13671, valid size 3418\n",
      "#########################\n",
      "[0]\tvalidation_0-mlogloss:1.58804\n",
      "[1]\tvalidation_0-mlogloss:1.46745\n",
      "[2]\tvalidation_0-mlogloss:1.38431\n",
      "[3]\tvalidation_0-mlogloss:1.32867\n",
      "[4]\tvalidation_0-mlogloss:1.28205\n",
      "[5]\tvalidation_0-mlogloss:1.25633\n",
      "[6]\tvalidation_0-mlogloss:1.22344\n",
      "[7]\tvalidation_0-mlogloss:1.20322\n",
      "[8]\tvalidation_0-mlogloss:1.18431\n",
      "[9]\tvalidation_0-mlogloss:1.17140\n",
      "[10]\tvalidation_0-mlogloss:1.15783\n",
      "[11]\tvalidation_0-mlogloss:1.14737\n",
      "[12]\tvalidation_0-mlogloss:1.14195\n",
      "[13]\tvalidation_0-mlogloss:1.13573\n",
      "[14]\tvalidation_0-mlogloss:1.13310\n",
      "[15]\tvalidation_0-mlogloss:1.13091\n",
      "[16]\tvalidation_0-mlogloss:1.12745\n",
      "[17]\tvalidation_0-mlogloss:1.12833\n",
      "[18]\tvalidation_0-mlogloss:1.12651\n",
      "[19]\tvalidation_0-mlogloss:1.12507\n",
      "[20]\tvalidation_0-mlogloss:1.12583\n",
      "[21]\tvalidation_0-mlogloss:1.12557\n",
      "[22]\tvalidation_0-mlogloss:1.12593\n",
      "[23]\tvalidation_0-mlogloss:1.12515\n",
      "[24]\tvalidation_0-mlogloss:1.12415\n",
      "[25]\tvalidation_0-mlogloss:1.12215\n",
      "[26]\tvalidation_0-mlogloss:1.12178\n",
      "[27]\tvalidation_0-mlogloss:1.12391\n",
      "[28]\tvalidation_0-mlogloss:1.12277\n",
      "[29]\tvalidation_0-mlogloss:1.12012\n",
      "[30]\tvalidation_0-mlogloss:1.11665\n",
      "[31]\tvalidation_0-mlogloss:1.11784\n",
      "[32]\tvalidation_0-mlogloss:1.11998\n",
      "[33]\tvalidation_0-mlogloss:1.11989\n",
      "[34]\tvalidation_0-mlogloss:1.12074\n",
      "[35]\tvalidation_0-mlogloss:1.12025\n",
      "[36]\tvalidation_0-mlogloss:1.12118\n",
      "[37]\tvalidation_0-mlogloss:1.12064\n",
      "[38]\tvalidation_0-mlogloss:1.12166\n",
      "[39]\tvalidation_0-mlogloss:1.12041\n",
      "#########################\n",
      "### Fold 5\n",
      "### train size 13672, valid size 3417\n",
      "#########################\n",
      "[0]\tvalidation_0-mlogloss:1.58096\n",
      "[1]\tvalidation_0-mlogloss:1.45643\n",
      "[2]\tvalidation_0-mlogloss:1.37280\n",
      "[3]\tvalidation_0-mlogloss:1.32101\n",
      "[4]\tvalidation_0-mlogloss:1.28180\n",
      "[5]\tvalidation_0-mlogloss:1.24859\n",
      "[6]\tvalidation_0-mlogloss:1.22292\n",
      "[7]\tvalidation_0-mlogloss:1.19911\n",
      "[8]\tvalidation_0-mlogloss:1.18829\n",
      "[9]\tvalidation_0-mlogloss:1.17818\n",
      "[10]\tvalidation_0-mlogloss:1.17577\n",
      "[11]\tvalidation_0-mlogloss:1.16719\n",
      "[12]\tvalidation_0-mlogloss:1.16420\n",
      "[13]\tvalidation_0-mlogloss:1.15964\n",
      "[14]\tvalidation_0-mlogloss:1.15887\n",
      "[15]\tvalidation_0-mlogloss:1.15220\n",
      "[16]\tvalidation_0-mlogloss:1.15141\n",
      "[17]\tvalidation_0-mlogloss:1.15426\n",
      "[18]\tvalidation_0-mlogloss:1.15067\n",
      "[19]\tvalidation_0-mlogloss:1.15083\n",
      "[20]\tvalidation_0-mlogloss:1.14692\n",
      "[21]\tvalidation_0-mlogloss:1.15329\n",
      "[22]\tvalidation_0-mlogloss:1.15496\n",
      "[23]\tvalidation_0-mlogloss:1.15332\n",
      "[24]\tvalidation_0-mlogloss:1.15304\n",
      "[25]\tvalidation_0-mlogloss:1.15333\n",
      "[26]\tvalidation_0-mlogloss:1.15214\n",
      "[27]\tvalidation_0-mlogloss:1.15291\n",
      "[28]\tvalidation_0-mlogloss:1.15277\n",
      "[29]\tvalidation_0-mlogloss:1.15454\n"
     ]
    }
   ],
   "source": [
    "all_oof = []\n",
    "all_true = []\n",
    "TARS = {'Seizure':0, 'LPD':1, 'GPD':2, 'LRDA':3, 'GRDA':4, 'Other':5}\n",
    "\n",
    "gkf = GroupKFold(n_splits=5)\n",
    "for i, (train_index, valid_index) in enumerate(gkf.split(train, train.target, train.patient_id)):   \n",
    "    \n",
    "    print('#'*25)\n",
    "    print(f'### Fold {i+1}')\n",
    "    print(f'### train size {len(train_index)}, valid size {len(valid_index)}')\n",
    "    print('#'*25)\n",
    "    \n",
    "    model = xgb.XGBClassifier(\n",
    "        objective='multi:softprob', \n",
    "        num_class=len(TARS),\n",
    "        #tree_method='gpu_hist',  # Did not use GPU acceleration\n",
    "    )\n",
    "    \n",
    "    # Prepare training and validation data\n",
    "    X_train = train.loc[train_index, FEATURES]\n",
    "    y_train = train.loc[train_index, 'target'].map(TARS)\n",
    "    X_valid = train.loc[valid_index, FEATURES]\n",
    "    y_valid = train.loc[valid_index, 'target'].map(TARS)\n",
    "    \n",
    "    model.fit(X_train, y_train, \n",
    "              eval_set=[(X_valid, y_valid)], \n",
    "              verbose=True, \n",
    "              early_stopping_rounds=10)\n",
    "    model.save_model(f'XGB_v{VER}_f{i}.model')\n",
    "    \n",
    "    oof = model.predict_proba(X_valid)\n",
    "    all_oof.append(oof)\n",
    "    all_true.append(train.loc[valid_index, TARGETS].values)\n",
    "    \n",
    "    del X_train, y_train, X_valid, y_valid, oof\n",
    "    gc.collect()\n",
    "    \n",
    "all_oof = np.concatenate(all_oof)\n",
    "all_true = np.concatenate(all_true)"
   ]
  },
  {
   "cell_type": "markdown",
   "id": "0999c6ac",
   "metadata": {
    "execution": {
     "iopub.execute_input": "2024-01-14T16:08:35.106804Z",
     "iopub.status.busy": "2024-01-14T16:08:35.106237Z",
     "iopub.status.idle": "2024-01-14T16:08:35.112735Z",
     "shell.execute_reply": "2024-01-14T16:08:35.111659Z",
     "shell.execute_reply.started": "2024-01-14T16:08:35.106757Z"
    },
    "papermill": {
     "duration": 0.033346,
     "end_time": "2024-01-14T16:49:13.727176",
     "exception": false,
     "start_time": "2024-01-14T16:49:13.693830",
     "status": "completed"
    },
    "tags": []
   },
   "source": [
    "# <div style=\"padding: 30px;color:white;margin:10;font-size:60%;text-align:left;display:fill;border-radius:10px;background-color:#FFFFFF;overflow:hidden;background-color:#FFCE30\"><b><span style='color:#FFFFFF'>9 |</span></b> <b>FEATURE IMPORTANCE</b></div>"
   ]
  },
  {
   "cell_type": "code",
   "execution_count": 9,
   "id": "019c1094",
   "metadata": {
    "execution": {
     "iopub.execute_input": "2024-01-14T16:49:13.796885Z",
     "iopub.status.busy": "2024-01-14T16:49:13.796453Z",
     "iopub.status.idle": "2024-01-14T16:49:14.384454Z",
     "shell.execute_reply": "2024-01-14T16:49:14.383069Z"
    },
    "papermill": {
     "duration": 0.626394,
     "end_time": "2024-01-14T16:49:14.387093",
     "exception": false,
     "start_time": "2024-01-14T16:49:13.760699",
     "status": "completed"
    },
    "tags": []
   },
   "outputs": [
    {
     "data": {
      "image/png": "[encoded data removed]",
      "text/plain": [
       "<Figure size 1000x800 with 1 Axes>"
      ]
     },
     "metadata": {},
     "output_type": "display_data"
    }
   ],
   "source": [
    "TOP = 25\n",
    "\n",
    "feature_importance = model.feature_importances_\n",
    "sorted_idx = np.argsort(feature_importance)\n",
    "fig = plt.figure(figsize=(10, 8))\n",
    "plt.barh(np.arange(len(sorted_idx))[-TOP:], feature_importance[sorted_idx][-TOP:], align='center')\n",
    "plt.yticks(np.arange(len(sorted_idx))[-TOP:], np.array(FEATURES)[sorted_idx][-TOP:])\n",
    "plt.title(f'Feature Importance - Top {TOP}')\n",
    "plt.show()"
   ]
  },
  {
   "cell_type": "markdown",
   "id": "211b9706",
   "metadata": {
    "execution": {
     "iopub.execute_input": "2024-01-14T16:17:09.802007Z",
     "iopub.status.busy": "2024-01-14T16:17:09.800209Z",
     "iopub.status.idle": "2024-01-14T16:17:09.809141Z",
     "shell.execute_reply": "2024-01-14T16:17:09.807551Z",
     "shell.execute_reply.started": "2024-01-14T16:17:09.801957Z"
    },
    "papermill": {
     "duration": 0.03518,
     "end_time": "2024-01-14T16:49:14.458997",
     "exception": false,
     "start_time": "2024-01-14T16:49:14.423817",
     "status": "completed"
    },
    "tags": []
   },
   "source": [
    "# <div style=\"padding: 30px;color:white;margin:10;font-size:60%;text-align:left;display:fill;border-radius:10px;background-color:#FFFFFF;overflow:hidden;background-color:#FFCE30\"><b><span style='color:#FFFFFF'>10 |</span></b> <b>INFER TEST</b></div>"
   ]
  },
  {
   "cell_type": "code",
   "execution_count": 10,
   "id": "2cbadd2d",
   "metadata": {
    "execution": {
     "iopub.execute_input": "2024-01-14T16:49:14.531718Z",
     "iopub.status.busy": "2024-01-14T16:49:14.531195Z",
     "iopub.status.idle": "2024-01-14T16:49:14.557858Z",
     "shell.execute_reply": "2024-01-14T16:49:14.556787Z"
    },
    "papermill": {
     "duration": 0.066043,
     "end_time": "2024-01-14T16:49:14.560088",
     "exception": false,
     "start_time": "2024-01-14T16:49:14.494045",
     "status": "completed"
    },
    "tags": []
   },
   "outputs": [
    {
     "name": "stdout",
     "output_type": "stream",
     "text": [
      "Test shape (1, 3)\n"
     ]
    },
    {
     "data": {
      "text/html": [
       "<div>\n",
       "<style scoped>\n",
       "    .dataframe tbody tr th:only-of-type {\n",
       "        vertical-align: middle;\n",
       "    }\n",
       "\n",
       "    .dataframe tbody tr th {\n",
       "        vertical-align: top;\n",
       "    }\n",
       "\n",
       "    .dataframe thead th {\n",
       "        text-align: right;\n",
       "    }\n",
       "</style>\n",
       "<table border=\"1\" class=\"dataframe\">\n",
       "  <thead>\n",
       "    <tr style=\"text-align: right;\">\n",
       "      <th></th>\n",
       "      <th>spectrogram_id</th>\n",
       "      <th>eeg_id</th>\n",
       "      <th>patient_id</th>\n",
       "    </tr>\n",
       "  </thead>\n",
       "  <tbody>\n",
       "    <tr>\n",
       "      <th>0</th>\n",
       "      <td>853520</td>\n",
       "      <td>3911565283</td>\n",
       "      <td>6885</td>\n",
       "    </tr>\n",
       "  </tbody>\n",
       "</table>\n",
       "</div>"
      ],
      "text/plain": [
       "   spectrogram_id      eeg_id  patient_id\n",
       "0          853520  3911565283        6885"
      ]
     },
     "execution_count": 10,
     "metadata": {},
     "output_type": "execute_result"
    }
   ],
   "source": [
    "test = pd.read_csv('/kaggle/input/hms-harmful-brain-activity-classification/test.csv')\n",
    "print('Test shape',test.shape)\n",
    "test.head()"
   ]
  },
  {
   "cell_type": "code",
   "execution_count": 11,
   "id": "7ff78288",
   "metadata": {
    "execution": {
     "iopub.execute_input": "2024-01-14T16:49:14.633532Z",
     "iopub.status.busy": "2024-01-14T16:49:14.632978Z",
     "iopub.status.idle": "2024-01-14T16:49:15.473038Z",
     "shell.execute_reply": "2024-01-14T16:49:15.471534Z"
    },
    "papermill": {
     "duration": 0.881036,
     "end_time": "2024-01-14T16:49:15.477146",
     "exception": false,
     "start_time": "2024-01-14T16:49:14.596110",
     "status": "completed"
    },
    "tags": []
   },
   "outputs": [
    {
     "name": "stdout",
     "output_type": "stream",
     "text": [
      "New test shape (1, 1603)\n"
     ]
    }
   ],
   "source": [
    "# FEATURE ENGINEER TEST\n",
    "PATH2 = '/kaggle/input/hms-harmful-brain-activity-classification/test_spectrograms/'\n",
    "data = np.zeros((len(test),len(FEATURES)))\n",
    "    \n",
    "for k in range(len(test)):\n",
    "    row = test.iloc[k]\n",
    "    s = int( row.spectrogram_id )\n",
    "    spec = pd.read_parquet(f'{PATH2}{s}.parquet')\n",
    "    \n",
    "    # 10 MINUTE WINDOW FEATURES\n",
    "    x = np.nanmean( spec.iloc[:,1:].values, axis=0)\n",
    "    data[k,:400] = x\n",
    "    x = np.nanmin( spec.iloc[:,1:].values, axis=0)\n",
    "    data[k,400:800] = x\n",
    "\n",
    "    # 20 SECOND WINDOW FEATURES\n",
    "    x = np.nanmean( spec.iloc[145:155,1:].values, axis=0)\n",
    "    data[k,800:1200] = x\n",
    "    x = np.nanmin( spec.iloc[145:155,1:].values, axis=0)\n",
    "    data[k,1200:1600] = x\n",
    "\n",
    "test[FEATURES] = data\n",
    "print('New test shape',test.shape)"
   ]
  },
  {
   "cell_type": "code",
   "execution_count": 12,
   "id": "cad4fdf9",
   "metadata": {
    "execution": {
     "iopub.execute_input": "2024-01-14T16:49:15.553410Z",
     "iopub.status.busy": "2024-01-14T16:49:15.552888Z",
     "iopub.status.idle": "2024-01-14T16:49:17.379809Z",
     "shell.execute_reply": "2024-01-14T16:49:17.378485Z"
    },
    "papermill": {
     "duration": 1.869385,
     "end_time": "2024-01-14T16:49:17.383077",
     "exception": false,
     "start_time": "2024-01-14T16:49:15.513692",
     "status": "completed"
    },
    "tags": []
   },
   "outputs": [
    {
     "name": "stdout",
     "output_type": "stream",
     "text": [
      "0 , 1 , 2 , 3 , 4 , \n",
      "Test preds shape (1, 6)\n"
     ]
    }
   ],
   "source": [
    "# INFER XGBOOST ON TEST\n",
    "preds = []\n",
    "\n",
    "for i in range(5):\n",
    "    print(i, ', ', end='')\n",
    "    \n",
    "    # Load the XGBoost model\n",
    "    model = xgb.XGBClassifier()\n",
    "    model.load_model(f'XGB_v{VER}_f{i}.model')\n",
    "    \n",
    "    # Make predictions\n",
    "    pred = model.predict_proba(test[FEATURES])\n",
    "    preds.append(pred)\n",
    "\n",
    "# Average the predictions from each fold\n",
    "pred = np.mean(preds, axis=0)\n",
    "print()\n",
    "print('Test preds shape', pred.shape)"
   ]
  },
  {
   "cell_type": "markdown",
   "id": "4278d0fa",
   "metadata": {
    "papermill": {
     "duration": 0.040415,
     "end_time": "2024-01-14T16:49:17.461588",
     "exception": false,
     "start_time": "2024-01-14T16:49:17.421173",
     "status": "completed"
    },
    "tags": []
   },
   "source": [
    "# <div style=\"padding: 30px;color:white;margin:10;font-size:60%;text-align:left;display:fill;border-radius:10px;background-color:#FFFFFF;overflow:hidden;background-color:#FFCE30\"><b><span style='color:#FFFFFF'>11 |</span></b> <b>SUBMISSION</b></div>"
   ]
  },
  {
   "cell_type": "code",
   "execution_count": 13,
   "id": "7f685873",
   "metadata": {
    "execution": {
     "iopub.execute_input": "2024-01-14T16:49:17.541439Z",
     "iopub.status.busy": "2024-01-14T16:49:17.540999Z",
     "iopub.status.idle": "2024-01-14T16:49:17.565733Z",
     "shell.execute_reply": "2024-01-14T16:49:17.564135Z"
    },
    "papermill": {
     "duration": 0.067493,
     "end_time": "2024-01-14T16:49:17.568564",
     "exception": false,
     "start_time": "2024-01-14T16:49:17.501071",
     "status": "completed"
    },
    "tags": []
   },
   "outputs": [
    {
     "name": "stdout",
     "output_type": "stream",
     "text": [
      "Submissionn shape (1, 7)\n"
     ]
    },
    {
     "data": {
      "text/html": [
       "<div>\n",
       "<style scoped>\n",
       "    .dataframe tbody tr th:only-of-type {\n",
       "        vertical-align: middle;\n",
       "    }\n",
       "\n",
       "    .dataframe tbody tr th {\n",
       "        vertical-align: top;\n",
       "    }\n",
       "\n",
       "    .dataframe thead th {\n",
       "        text-align: right;\n",
       "    }\n",
       "</style>\n",
       "<table border=\"1\" class=\"dataframe\">\n",
       "  <thead>\n",
       "    <tr style=\"text-align: right;\">\n",
       "      <th></th>\n",
       "      <th>eeg_id</th>\n",
       "      <th>seizure_vote</th>\n",
       "      <th>lpd_vote</th>\n",
       "      <th>gpd_vote</th>\n",
       "      <th>lrda_vote</th>\n",
       "      <th>grda_vote</th>\n",
       "      <th>other_vote</th>\n",
       "    </tr>\n",
       "  </thead>\n",
       "  <tbody>\n",
       "    <tr>\n",
       "      <th>0</th>\n",
       "      <td>3911565283</td>\n",
       "      <td>0.122414</td>\n",
       "      <td>0.08784</td>\n",
       "      <td>0.007696</td>\n",
       "      <td>0.122652</td>\n",
       "      <td>0.044978</td>\n",
       "      <td>0.61442</td>\n",
       "    </tr>\n",
       "  </tbody>\n",
       "</table>\n",
       "</div>"
      ],
      "text/plain": [
       "       eeg_id  seizure_vote  lpd_vote  gpd_vote  lrda_vote  grda_vote  \\\n",
       "0  3911565283      0.122414   0.08784  0.007696   0.122652   0.044978   \n",
       "\n",
       "   other_vote  \n",
       "0     0.61442  "
      ]
     },
     "execution_count": 13,
     "metadata": {},
     "output_type": "execute_result"
    }
   ],
   "source": [
    "sub = pd.DataFrame({'eeg_id':test.eeg_id.values})\n",
    "sub[TARGETS] = pred\n",
    "sub.to_csv('submission.csv',index=False)\n",
    "print('Submissionn shape',sub.shape)\n",
    "sub.head()"
   ]
  },
  {
   "cell_type": "code",
   "execution_count": 14,
   "id": "42061401",
   "metadata": {
    "execution": {
     "iopub.execute_input": "2024-01-14T16:49:17.660690Z",
     "iopub.status.busy": "2024-01-14T16:49:17.658617Z",
     "iopub.status.idle": "2024-01-14T16:49:17.678081Z",
     "shell.execute_reply": "2024-01-14T16:49:17.675727Z"
    },
    "papermill": {
     "duration": 0.074567,
     "end_time": "2024-01-14T16:49:17.681780",
     "exception": false,
     "start_time": "2024-01-14T16:49:17.607213",
     "status": "completed"
    },
    "tags": []
   },
   "outputs": [
    {
     "data": {
      "text/plain": [
       "0    1.0\n",
       "dtype: float32"
      ]
     },
     "execution_count": 14,
     "metadata": {},
     "output_type": "execute_result"
    }
   ],
   "source": [
    "# SANITY CHECK TO CONFIRM PREDICTIONS SUM TO ONE\n",
    "sub.iloc[:,-6:].sum(axis=1)"
   ]
  }
 ],
 "metadata": {
  "kaggle": {
   "accelerator": "none",
   "dataSources": [
    {
     "databundleVersionId": 7469972,
     "sourceId": 59093,
     "sourceType": "competition"
    },
    {
     "datasetId": 4297782,
     "sourceId": 7392775,
     "sourceType": "datasetVersion"
    }
   ],
   "dockerImageVersionId": 30635,
   "isGpuEnabled": false,
   "isInternetEnabled": false,
   "language": "python",
   "sourceType": "notebook"
  },
  "kernelspec": {
   "display_name": "Python 3",
   "language": "python",
   "name": "python3"
  },
  "language_info": {
   "codemirror_mode": {
    "name": "ipython",
    "version": 3
   },
   "file_extension": ".py",
   "mimetype": "text/x-python",
   "name": "python",
   "nbconvert_exporter": "python",
   "pygments_lexer": "ipython3",
   "version": "3.10.12"
  },
  "papermill": {
   "default_parameters": {},
   "duration": 650.202124,
   "end_time": "2024-01-14T16:49:19.156104",
   "environment_variables": {},
   "exception": null,
   "input_path": "__notebook__.ipynb",
   "output_path": "__notebook__.ipynb",
   "parameters": {},
   "start_time": "2024-01-14T16:38:28.953980",
   "version": "2.4.0"
  }
 },
 "nbformat": 4,
 "nbformat_minor": 5
}
